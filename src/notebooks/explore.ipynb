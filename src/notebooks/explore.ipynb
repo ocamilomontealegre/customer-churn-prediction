{
 "cells": [
  {
   "cell_type": "code",
   "execution_count": null,
   "id": "3cc040a1",
   "metadata": {},
   "outputs": [],
   "source": [
    "import matplotlib.pyplot as plt\n",
    "from seaborn import boxplot, countplot, heatmap, histplot\n",
    "from pandas import read_sql\n",
    "from src.common.database.database import Database\n",
    "\n",
    "connection = Database.connect()\n",
    "df = read_sql(\"SELECT * FROM customers\", connection)\n",
    "connection.close()"
   ]
  },
  {
   "cell_type": "code",
   "execution_count": null,
   "id": "717342bd",
   "metadata": {},
   "outputs": [],
   "source": [
    "# Show the first rows of the db\n",
    "df.head()"
   ]
  },
  {
   "cell_type": "code",
   "execution_count": null,
   "id": "f17cd094",
   "metadata": {},
   "outputs": [],
   "source": [
    "# Show db structure summary\n",
    "df.info()"
   ]
  },
  {
   "cell_type": "code",
   "execution_count": null,
   "id": "ba11920c",
   "metadata": {},
   "outputs": [],
   "source": [
    "# Describe statistics for numeric columns\n",
    "df.describe() "
   ]
  },
  {
   "cell_type": "code",
   "execution_count": null,
   "id": "49ab0f40",
   "metadata": {},
   "outputs": [],
   "source": [
    "# Counts churn categories\n",
    "df['churn'].value_counts()"
   ]
  },
  {
   "cell_type": "code",
   "execution_count": null,
   "id": "b4f136df",
   "metadata": {},
   "outputs": [],
   "source": [
    "# Churn Distribution\n",
    "countplot(data=df, x=\"churn\")\n",
    "plt.title(\"Customer Churn Distribution\")\n",
    "plt.xlabel(\"Churn\")\n",
    "plt.ylabel(\"Count\")\n",
    "plt.show()"
   ]
  },
  {
   "cell_type": "code",
   "execution_count": null,
   "id": "281e4dc5",
   "metadata": {},
   "outputs": [],
   "source": [
    "# Churn by Contract Type\n",
    "countplot(data=df, x=\"contract\", hue=\"churn\")\n",
    "plt.title(\"Churn by Contract Type\")\n",
    "plt.xlabel(\"Contract Type\")\n",
    "plt.ylabel(\"Count\")\n",
    "plt.xticks(rotation=45)\n",
    "plt.show()"
   ]
  },
  {
   "cell_type": "code",
   "execution_count": null,
   "id": "2f63d8a8",
   "metadata": {},
   "outputs": [],
   "source": [
    "# Monthly Charges Distribution\n",
    "histplot(df[\"monthlycharges\"], kde=True)\n",
    "plt.title(\"Monthly Charges Distribution\")\n",
    "plt.xlabel(\"Monthly Charges\")\n",
    "plt.ylabel(\"Number of Customers\")\n",
    "plt.show()"
   ]
  },
  {
   "cell_type": "code",
   "execution_count": null,
   "id": "3c8d8556",
   "metadata": {},
   "outputs": [],
   "source": [
    "# Boxplot of Monthly Charges\n",
    "boxplot(data=df, x=\"churn\", y=\"monthlycharges\")\n",
    "plt.title(\"Monthly Charges vs. Churn\")\n",
    "plt.show()"
   ]
  },
  {
   "cell_type": "code",
   "execution_count": null,
   "id": "6a2c80cb",
   "metadata": {},
   "outputs": [],
   "source": [
    "# Correlation Heatmap\n",
    "corr = df.corr(numeric_only=True)\n",
    "\n",
    "plt.figure(figsize=(10, 6))\n",
    "heatmap(corr, annot=True, cmap=\"coolwarm\", fmt=\".2f\")\n",
    "plt.title(\"Correlation Heatmap\")\n",
    "plt.show()"
   ]
  }
 ],
 "metadata": {
  "kernelspec": {
   "display_name": "02-customer-churn-prediction-ADMgsp-s-py3.13",
   "language": "python",
   "name": "python3"
  },
  "language_info": {
   "codemirror_mode": {
    "name": "ipython",
    "version": 3
   },
   "file_extension": ".py",
   "mimetype": "text/x-python",
   "name": "python",
   "nbconvert_exporter": "python",
   "pygments_lexer": "ipython3",
   "version": "3.13.3"
  }
 },
 "nbformat": 4,
 "nbformat_minor": 5
}
